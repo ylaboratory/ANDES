{
 "cells": [
  {
   "cell_type": "code",
   "execution_count": 1,
   "metadata": {},
   "outputs": [],
   "source": [
    "import numpy as np\n",
    "import pandas as pd\n",
    "from functools import partial\n",
    "\n",
    "from collections import defaultdict\n",
    "from sklearn import metrics\n",
    "\n",
    "import src.load_data as ld\n",
    "import src.set_analysis_func as func\n",
    "\n"
   ]
  },
  {
   "cell_type": "code",
   "execution_count": 2,
   "metadata": {},
   "outputs": [],
   "source": [
    "# load embedding\n",
    "node_vectors = np.loadtxt(\n",
    "    './data/embedding/node2vec_consensus.csv', delimiter=',')\n",
    "node_list = []\n",
    "with open('./data/embedding/consensus_node.txt', 'r') as f:\n",
    "    for line in f:\n",
    "        node_list.append(line.strip())\n",
    "        \n",
    "S = metrics.pairwise.cosine_similarity(node_vectors, node_vectors)"
   ]
  },
  {
   "cell_type": "code",
   "execution_count": 3,
   "metadata": {},
   "outputs": [],
   "source": [
    "# create gene to embedding id mapping\n",
    "g_node2index = {j:i for i,j in enumerate(node_list)}\n",
    "g_index2node = {i:j for i,j in enumerate(node_list)}\n",
    "g_node2index = defaultdict(lambda:-1, g_node2index)"
   ]
  },
  {
   "cell_type": "code",
   "execution_count": 4,
   "metadata": {},
   "outputs": [],
   "source": [
    "# load gene set data\n",
    "GO_data = ld.load_gmt(\n",
    "    './data/gene_sets/hsa_experimental_eval_BP_propagated.gmt')\n",
    "\n",
    "GO2indices = ld.term2indexes(\n",
    "    GO_data, g_node2index, upper=300, lower=10)"
   ]
  },
  {
   "cell_type": "code",
   "execution_count": 5,
   "metadata": {},
   "outputs": [],
   "source": [
    "# generate background gene list\n",
    "GO_all_genes = set()\n",
    "for x in GO_data:\n",
    "    GO_all_genes = GO_all_genes.union(GO_data[x])\n",
    "    \n",
    "GO_all_genes = GO_all_genes.intersection(node_list)\n",
    "GO_all_indices = [g_node2index[x] for x in GO_all_genes]"
   ]
  },
  {
   "cell_type": "code",
   "execution_count": 6,
   "metadata": {},
   "outputs": [],
   "source": [
    "f = partial(func.andes, matrix=S, g1_term2index=GO2indices, \n",
    "            g2_term2index=GO2indices, g1_population=GO_all_indices, \n",
    "            g2_population=GO_all_indices)"
   ]
  },
  {
   "cell_type": "code",
   "execution_count": 7,
   "metadata": {},
   "outputs": [
    {
     "data": {
      "text/plain": [
       "(0.3675551337770534, -0.046133571753024294)"
      ]
     },
     "execution_count": 7,
     "metadata": {},
     "output_type": "execute_result"
    }
   ],
   "source": [
    "# return ANDES raw and corrected score\n",
    "f(('GO:0043648', 'GO:0006805'))"
   ]
  },
  {
   "cell_type": "markdown",
   "metadata": {},
   "source": [
    "## ANDES as GSEA"
   ]
  },
  {
   "cell_type": "code",
   "execution_count": 8,
   "metadata": {},
   "outputs": [],
   "source": [
    "#load ranked list generated from gene expression data\n",
    "ranked_list = pd.read_csv('./data/expression/GSE3467_de.txt',\n",
    "                          sep='\\t', index_col=0, header=None)\n",
    "ranked_list = [str(y) for y in ranked_list.index]\n",
    "ranked_list = [g_node2index[y] for y in ranked_list if y in node_list]"
   ]
  },
  {
   "cell_type": "code",
   "execution_count": 9,
   "metadata": {},
   "outputs": [],
   "source": [
    "f = partial(func.gsea_andes, ranked_list=ranked_list, matrix=S, \n",
    "            term2indices=GO2indices, \n",
    "            annotated_indices=GO_all_indices)"
   ]
  },
  {
   "cell_type": "code",
   "execution_count": 10,
   "metadata": {},
   "outputs": [
    {
     "data": {
      "text/plain": [
       "(1.451297977761098, 0.6105019183325968)"
      ]
     },
     "execution_count": 10,
     "metadata": {},
     "output_type": "execute_result"
    }
   ],
   "source": [
    "f('GO:0043648')"
   ]
  }
 ],
 "metadata": {
  "kernelspec": {
   "display_name": "Python 3",
   "language": "python",
   "name": "python3"
  },
  "language_info": {
   "codemirror_mode": {
    "name": "ipython",
    "version": 3
   },
   "file_extension": ".py",
   "mimetype": "text/x-python",
   "name": "python",
   "nbconvert_exporter": "python",
   "pygments_lexer": "ipython3",
   "version": "3.8.18"
  }
 },
 "nbformat": 4,
 "nbformat_minor": 4
}
